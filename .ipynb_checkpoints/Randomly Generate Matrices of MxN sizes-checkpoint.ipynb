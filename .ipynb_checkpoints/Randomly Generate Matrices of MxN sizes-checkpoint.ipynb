{
 "cells": [
  {
   "cell_type": "markdown",
   "metadata": {},
   "source": [
    "# Installing Anaconda\n",
    "\n",
    "<img src=\"https://www.anaconda.com/wp-content/uploads/2018/06/cropped-Anaconda_horizontal_RGB-1-600x102.png\" alt=\"drawing\" width=\"150\" align=\"middle\"/>\n",
    "\n",
    "\n",
    "This section will walkthrough how to install Anaconda and Python. Anaconda is a free and open-source distribution of Python that focuses on data science, machine learning and data analysis. \n",
    "\n",
    "Anaconda uses a package management system _conda_. Anaconda can be installed on Windows, Linux and MacOS. \n",
    "\n",
    "## Download Anaconda\n",
    "* [Download Anaconda](https://www.anaconda.com/distribution/)\n",
    "\n",
    "\n",
    "## Installation Documentation:\n",
    "* [Anaconda Installation Guide](https://docs.anaconda.com/anaconda/install/)\n",
    "\n",
    "## Running Jupyter Notebook\n",
    "\n",
    "<img src=\"https://jupyter.readthedocs.io/en/latest/_static/_images/jupyter.svg\" alt=\"jupyter\" width=\"150\" align=\"middle\"/>\n",
    "\n",
    "* [Jupyter Notebook documentation](https://jupyter.readthedocs.io/en/latest/running.html)\n"
   ]
  },
  {
   "cell_type": "markdown",
   "metadata": {},
   "source": [
    "## numpy Documentation \n",
    "\n",
    "* [numpy Official Documentation](https://docs.scipy.org/doc/numpy/)\n",
    "\n",
    "I'll refer to the relevant sections of the numpy documentation throughout this tutorial as we work through these examples. \n",
    "\n",
    "### Running Jupyter Notebook Cells\n",
    "\n",
    "Jupyter notebook is a great way to code iteratively. You can run a cell by clicking on the \"Run\" button above or you can use the shortcut by holding both __\"Shift + Enter\"__ or __\"Shift + Return\"__ if you are on a mac."
   ]
  },
  {
   "cell_type": "markdown",
   "metadata": {},
   "source": [
    "## Programming in Python & numpy\n",
    "\n",
    "[Python](https://www.python.org/) is a high-level general purpose programming language. It comes with several great built in libraries and built in functions that make it easy to get started programming quickly. The syntax is also very human readable.\n",
    "\n",
    "When working with matrices using a scientific library like [numpy](https://numpy.org/) can be helpful. Below we will start writing code for our randomly generated matrix problem."
   ]
  },
  {
   "cell_type": "markdown",
   "metadata": {},
   "source": [
    "Here on line 7 is an example of an `import` statement. An `import` statement allows you to bring in other existing code into your program. This existing code is called a library. There is a bit more to importing code but is outside the scope of this project. For now, I will leave this [link](https://www.codementor.io/@sheena/python-path-virtualenv-import-for-beginners-du107r3o1) if you want to learn more about it on your own."
   ]
  },
  {
   "cell_type": "code",
   "execution_count": 2,
   "metadata": {},
   "outputs": [],
   "source": [
    "# I'll be using a lot of comments in this notebook.\n",
    "# In this first cell we are going to import the libraries to use for\n",
    "# creating our matrix. \n",
    "\n",
    "# numpy is imported as 'np' as a convention. \n",
    "\n",
    "import numpy as np \n",
    "\n"
   ]
  },
  {
   "cell_type": "markdown",
   "metadata": {},
   "source": [
    "Python lists is one of the most basic data structures in Python. Here is a quick run down on some [list basics](https://www.tutorialspoint.com/python/python_lists.htm). \n",
    "\n",
    "Link to the [Python Official Documentation on Lists](https://docs.python.org/3/tutorial/datastructures.html)"
   ]
  },
  {
   "cell_type": "code",
   "execution_count": 3,
   "metadata": {},
   "outputs": [
    {
     "name": "stdout",
     "output_type": "stream",
     "text": [
      "[1 2 3 4]\n"
     ]
    }
   ],
   "source": [
    "# There are a couple data structures that we will rely on. As you may \n",
    "# know the basic data structure is a numpy array (vector).\n",
    "# To create an array we need to leverage an existing Python data structure: list\n",
    "# Here we are going to use a list (denoted by square brackets) to create an array. \n",
    "\n",
    "# Creating list mylist\n",
    "mylist = [1,2,3,4]\n",
    "\n",
    "# Transforming mylist into an array:\n",
    "myarray = np.array(mylist)\n",
    "\n",
    "# Reviewing the output of myarray:\n",
    "print(myarray)\n",
    "\n",
    "# Still looks like a list but it is really a numpy array. Let's \n",
    "# take a closer look."
   ]
  },
  {
   "cell_type": "markdown",
   "metadata": {},
   "source": [
    "`type` is a Python built-in (pre-packaged) function. More information about `type` is available [here](https://docs.python.org/3/library/functions.html#type)"
   ]
  },
  {
   "cell_type": "code",
   "execution_count": 4,
   "metadata": {},
   "outputs": [
    {
     "name": "stdout",
     "output_type": "stream",
     "text": [
      "<class 'numpy.ndarray'>\n"
     ]
    }
   ],
   "source": [
    "# Reviewing the data type of myarray:\n",
    "print(type(myarray))\n",
    "\n",
    "# Notice that the array is called an ndarray. This is short for \n",
    "# n-dimensional array. We can quickly find the shape (number of \n",
    "# rows vs columns) by using a numpy method. "
   ]
  },
  {
   "cell_type": "markdown",
   "metadata": {},
   "source": [
    "### Documentation for Shape\n",
    "\n",
    "* https://docs.scipy.org/doc/numpy/reference/generated/numpy.ndarray.shape.html"
   ]
  },
  {
   "cell_type": "code",
   "execution_count": 5,
   "metadata": {},
   "outputs": [
    {
     "data": {
      "text/plain": [
       "(4,)"
      ]
     },
     "execution_count": 5,
     "metadata": {},
     "output_type": "execute_result"
    }
   ],
   "source": [
    "# This means we have an array with four entries. We will use this later\n",
    "# when verifying the shape of our randomly generated matrix. \n",
    "myarray.shape"
   ]
  },
  {
   "cell_type": "markdown",
   "metadata": {},
   "source": [
    "# Generating a Random Number\n",
    "\n",
    "[Relevant Doc: Generating Randomness](https://docs.scipy.org/doc/numpy-1.15.0/reference/generated/numpy.random.random.html)\n",
    "\n",
    "numpy provides a random class that generates real or integer numbers for us automatically. Let's take a look:"
   ]
  },
  {
   "cell_type": "code",
   "execution_count": 6,
   "metadata": {},
   "outputs": [
    {
     "data": {
      "text/plain": [
<<<<<<< HEAD
       "0.1451369609652211"
=======
       "0.5056698802908643"
>>>>>>> fe3bba152f877223582de7331b1a2e986259fc8e
      ]
     },
     "execution_count": 6,
     "metadata": {},
     "output_type": "execute_result"
    }
   ],
   "source": [
    "# How to generate a single real random number. By default it will\n",
    "# generate a real number between 0 and 1.\n",
    "\n",
    "np.random.random()"
   ]
  },
  {
   "cell_type": "code",
   "execution_count": 7,
   "metadata": {},
   "outputs": [
    {
     "data": {
      "text/plain": [
<<<<<<< HEAD
       "0"
=======
       "1"
>>>>>>> fe3bba152f877223582de7331b1a2e986259fc8e
      ]
     },
     "execution_count": 7,
     "metadata": {},
     "output_type": "execute_result"
    }
   ],
   "source": [
    "# How to generate a single integer number. Here, the input determines\n",
    "# what kind of data is returned to us. \n",
    "\n",
    "# If we enter one digit it will randomly select an integer from 0 to\n",
    "# one less the provided number. For example, if we enter 3 into our\n",
    "# randint method numpy will generate a number between 0 and 2. This \n",
    "# means it excludes the number we provided. Everything up to but not\n",
    "# including the input will be randomly generated. \n",
    "\n",
    "np.random.randint(3)"
   ]
  },
  {
   "cell_type": "markdown",
   "metadata": {},
   "source": [
    "# Generating a Random Matrix\n",
    "\n",
    "[Relevant doc: Random Integers](https://docs.scipy.org/doc/numpy-1.15.1/reference/generated/numpy.random.randint.html)\n",
    "\n",
    "This is helpful in explaining the parameters for the randint method."
   ]
  },
  {
   "cell_type": "code",
   "execution_count": 8,
   "metadata": {},
   "outputs": [],
   "source": [
    "# Creating a matrix of shape 1000 x 1000 with randomly generated \n",
    "# integers from 1 to 9 (included).\n",
    "\n",
    "data = np.random.randint(low=1, high=10, size=(1000,1000))\n",
    "\n",
    "# This randint method is nice because it does the work of creating\n",
    "# the randomly generated matrix with lower and upper thresholds for\n",
    "# the element values. Plus, it defines the size of the matrix for you.\n"
   ]
  },
  {
   "cell_type": "code",
   "execution_count": 9,
   "metadata": {},
   "outputs": [
    {
     "data": {
      "text/plain": [
<<<<<<< HEAD
       "array([[8, 4, 3, ..., 1, 5, 8],\n",
       "       [8, 6, 2, ..., 4, 5, 9],\n",
       "       [4, 7, 3, ..., 1, 1, 3],\n",
       "       ...,\n",
       "       [8, 8, 5, ..., 2, 3, 3],\n",
       "       [2, 4, 8, ..., 9, 8, 6],\n",
       "       [6, 7, 9, ..., 2, 6, 1]])"
=======
       "array([[2, 1, 5, ..., 6, 7, 2],\n",
       "       [7, 4, 8, ..., 9, 5, 9],\n",
       "       [3, 8, 2, ..., 3, 4, 8],\n",
       "       ...,\n",
       "       [6, 5, 1, ..., 3, 6, 7],\n",
       "       [2, 4, 4, ..., 4, 5, 9],\n",
       "       [9, 8, 6, ..., 1, 7, 2]])"
>>>>>>> fe3bba152f877223582de7331b1a2e986259fc8e
      ]
     },
     "execution_count": 9,
     "metadata": {},
     "output_type": "execute_result"
    }
   ],
   "source": [
    "# Preview of the data. Too big to display all of it. What jupyter does\n",
    "# is it gives you a preview of the first few records and then skip\n",
    "# to the tail (or end) and show you the last few records in the \n",
    "# matrix. \n",
    "data"
   ]
  },
  {
   "cell_type": "code",
   "execution_count": 10,
   "metadata": {},
   "outputs": [
    {
     "data": {
      "text/plain": [
       "(1000, 1000)"
      ]
     },
     "execution_count": 10,
     "metadata": {},
     "output_type": "execute_result"
    }
   ],
   "source": [
    "# The shape method returns a tuple of the (rows, columns) for \n",
    "# the data array. \n",
    "\n",
    "data.shape"
   ]
  },
  {
   "cell_type": "code",
   "execution_count": 11,
   "metadata": {},
   "outputs": [
    {
     "data": {
      "text/plain": [
       "9"
      ]
     },
     "execution_count": 11,
     "metadata": {},
     "output_type": "execute_result"
    }
   ],
   "source": [
    "# Checking the maximum value in the matrix. We would expect 9 since\n",
    "# we defined our high parameter as 10. Recall that it is up to but not\n",
    "# including the high number. \n",
    "\n",
    "data.max()"
   ]
  },
  {
   "cell_type": "code",
   "execution_count": 12,
   "metadata": {},
   "outputs": [
    {
     "data": {
      "text/plain": [
       "1"
      ]
     },
     "execution_count": 12,
     "metadata": {},
     "output_type": "execute_result"
    }
   ],
   "source": [
    "# Verifying that the lowest integer in our matrix matches the \n",
    "# parameters above. \n",
    "\n",
    "data.min()"
   ]
  },
  {
   "cell_type": "markdown",
   "metadata": {},
   "source": [
    "Slicing and indexing arrays is a quick notation for splitting arrays and matrices into smaller parts. Please refer to the documentation for more [information](https://docs.scipy.org/doc/numpy/reference/arrays.indexing.html)."
   ]
  },
  {
   "cell_type": "code",
   "execution_count": 13,
   "metadata": {},
   "outputs": [
    {
     "data": {
      "text/plain": [
<<<<<<< HEAD
       "array([[8, 4, 3, ..., 1, 5, 8],\n",
       "       [8, 6, 2, ..., 4, 5, 9]])"
=======
       "array([[2, 1, 5, ..., 6, 7, 2],\n",
       "       [7, 4, 8, ..., 9, 5, 9]])"
>>>>>>> fe3bba152f877223582de7331b1a2e986259fc8e
      ]
     },
     "execution_count": 13,
     "metadata": {},
     "output_type": "execute_result"
    }
   ],
   "source": [
    "# This shows the first two arrays in the data matrix. \n",
    "data[:2]"
   ]
  },
  {
   "cell_type": "markdown",
   "metadata": {},
   "source": [
    "# Finding Inverse of a Matrix\n",
    "\n",
    "Here, we will use the Linear Algebra class in the numpy library.\n",
    "\n",
    "Relevant doc: https://docs.scipy.org/doc/numpy/reference/routines.linalg.html"
   ]
  },
  {
   "cell_type": "code",
   "execution_count": 14,
   "metadata": {},
   "outputs": [],
   "source": [
    "# Let's create a matrix called A using the randint method.\n",
    "\n",
    "A = np.random.randint(low=1, high=10, size=(1000,1000))"
   ]
  },
  {
   "cell_type": "code",
   "execution_count": 15,
   "metadata": {},
   "outputs": [],
   "source": [
    "# Creates the inverse of matrix A.\n",
    "inv_A = np.linalg.inv(A)"
   ]
  },
  {
   "cell_type": "code",
   "execution_count": 16,
   "metadata": {},
   "outputs": [
    {
     "data": {
      "text/plain": [
<<<<<<< HEAD
       "array([[-4.31429149e-02, -4.46806811e-03,  4.20605526e-02, ...,\n",
       "         2.13410664e-03, -2.32041024e-02, -5.46730636e-02],\n",
       "       [ 4.25537401e-02,  2.05757835e-02, -2.93632223e-02, ...,\n",
       "         4.55843361e-03,  3.17459960e-02,  6.91201380e-02],\n",
       "       [-4.29975831e-02, -4.32581909e-03,  4.35803857e-02, ...,\n",
       "         1.43039067e-03, -2.04716194e-02, -6.49787279e-02],\n",
       "       ...,\n",
       "       [ 1.18553912e-01,  1.49706633e-02, -1.19088466e-01, ...,\n",
       "        -1.08290056e-02,  7.56539636e-02,  1.75939293e-01],\n",
       "       [ 2.60731670e-02,  7.31013404e-03, -4.50436442e-02, ...,\n",
       "         5.57041169e-03,  3.22120928e-02,  5.50177204e-02],\n",
       "       [-7.23417657e-02, -3.51255654e-02,  6.62278060e-02, ...,\n",
       "        -9.12383401e-05, -5.29266162e-02, -1.10745716e-01]])"
=======
       "array([[-0.00395897,  0.01104517, -0.00735188, ..., -0.00420944,\n",
       "         0.00535848,  0.01468699],\n",
       "       [-0.00164451, -0.00168302,  0.00707375, ...,  0.00842495,\n",
       "        -0.008797  ,  0.00139026],\n",
       "       [-0.03033788,  0.00230603, -0.00883095, ..., -0.00010514,\n",
       "        -0.02156271,  0.04427837],\n",
       "       ...,\n",
       "       [-0.00173637,  0.01069032, -0.01116593, ...,  0.00131012,\n",
       "         0.003028  ,  0.01177586],\n",
       "       [-0.00459489, -0.01272178, -0.00370096, ...,  0.00551177,\n",
       "        -0.00533818,  0.00112759],\n",
       "       [ 0.01833599, -0.00069322,  0.0105715 , ...,  0.00739902,\n",
       "         0.00172418, -0.01744882]])"
>>>>>>> fe3bba152f877223582de7331b1a2e986259fc8e
      ]
     },
     "execution_count": 16,
     "metadata": {},
     "output_type": "execute_result"
    }
   ],
   "source": [
    "# Let's preview A.\n",
    "inv_A"
   ]
  },
  {
   "cell_type": "code",
   "execution_count": 17,
   "metadata": {},
   "outputs": [
    {
     "data": {
      "text/plain": [
<<<<<<< HEAD
       "array([[ 1.00000000e+00,  3.92741395e-13,  1.73666637e-13, ...,\n",
       "        -8.42173553e-14,  8.31279490e-14, -4.39648318e-14],\n",
       "       [ 6.66716682e-13,  1.00000000e+00, -5.51475532e-13, ...,\n",
       "        -2.31537012e-13, -1.26149091e-13, -4.32320846e-13],\n",
       "       [-4.70387618e-13, -8.04911693e-14,  1.00000000e+00, ...,\n",
       "        -4.11795598e-13, -3.81639165e-13,  4.52637927e-13],\n",
       "       ...,\n",
       "       [ 6.57807142e-14,  2.18047802e-13,  1.53876911e-13, ...,\n",
       "         1.00000000e+00, -8.78186412e-14, -3.88578059e-15],\n",
       "       [ 2.10040318e-14,  3.77475828e-14,  2.26416108e-14, ...,\n",
       "         6.71337985e-14,  1.00000000e+00, -9.86710713e-15],\n",
       "       [-4.53248550e-14, -1.14130927e-13, -7.85205234e-14, ...,\n",
       "        -9.17321774e-14,  6.77791157e-14,  1.00000000e+00]])"
=======
       "array([[ 1.00000000e+00,  7.06656955e-14, -1.09912079e-14, ...,\n",
       "         1.29674049e-13,  1.90958360e-14,  4.37705427e-14],\n",
       "       [-8.99280650e-14,  1.00000000e+00,  5.88418203e-15, ...,\n",
       "        -4.78506124e-14, -4.37427872e-14, -4.52415883e-14],\n",
       "       [-1.68975944e-13, -5.04041253e-14,  1.00000000e+00, ...,\n",
       "        -9.32587341e-14, -1.91846539e-13, -1.10578213e-13],\n",
       "       ...,\n",
       "       [-1.21569421e-14, -5.55111512e-16, -1.46549439e-14, ...,\n",
       "         1.00000000e+00, -6.99440506e-15, -1.11022302e-16],\n",
       "       [ 5.32907052e-15, -1.77635684e-15,  6.66133815e-15, ...,\n",
       "         2.00950367e-14,  1.00000000e+00,  4.32986980e-15],\n",
       "       [ 1.82354132e-14, -2.14828155e-14,  1.87072580e-14, ...,\n",
       "         6.21724894e-15,  1.85962357e-15,  1.00000000e+00]])"
>>>>>>> fe3bba152f877223582de7331b1a2e986259fc8e
      ]
     },
     "execution_count": 17,
     "metadata": {},
     "output_type": "execute_result"
    }
   ],
   "source": [
    "#  Okay, but how do we know that this actually generated the inverse\n",
    "# of matrix A? We know that the dot product of a matrix and its inverse\n",
    "# results in an identity matrix. \n",
    "\n",
    "np.dot(inv_A, A)"
   ]
  },
  {
   "cell_type": "code",
   "execution_count": 18,
   "metadata": {},
   "outputs": [],
   "source": [
    "# Looks a bit odd but this is because the numbers are very small.\n",
    "# Let's use round and abs methods to clean this up.\n",
    "\n",
    "identity_matrix = np.dot(inv_A, A)\n",
    "\n",
    "# Absolute Value of rounded dot_product\n",
    "identity_matrix = np.abs(identity_matrix.round())"
   ]
  },
  {
   "cell_type": "code",
   "execution_count": 19,
   "metadata": {},
   "outputs": [
    {
     "data": {
      "text/plain": [
       "array([[1., 0., 0., ..., 0., 0., 0.],\n",
       "       [0., 1., 0., ..., 0., 0., 0.],\n",
       "       [0., 0., 1., ..., 0., 0., 0.],\n",
       "       ...,\n",
       "       [0., 0., 0., ..., 1., 0., 0.],\n",
       "       [0., 0., 0., ..., 0., 1., 0.],\n",
       "       [0., 0., 0., ..., 0., 0., 1.]])"
      ]
     },
     "execution_count": 19,
     "metadata": {},
     "output_type": "execute_result"
    }
   ],
   "source": [
    "identity_matrix"
   ]
  },
  {
   "cell_type": "code",
<<<<<<< HEAD
   "execution_count": 20,
=======
   "execution_count": 25,
>>>>>>> fe3bba152f877223582de7331b1a2e986259fc8e
   "metadata": {},
   "outputs": [],
   "source": [
    "# Ok, what about a matrix of size 10,000 x 10,000? We will reuse\n",
    "# the same code from above but change the size. Recall, the size\n",
    "# defines the (rows, columns) shape of your matrix. \n",
    "\n",
    "# For this example, I am being explicit with the parameters.\n",
    "new_matrix = np.random.randint(low=1, high=10, size=(10000,10000))\n"
   ]
  },
  {
<<<<<<< HEAD
   "cell_type": "markdown",
   "metadata": {},
   "source": [
    "# Handling Huge Arrays\n",
    "\n",
    "* Use h5py\n",
    "* Stores data on the hard drive.\n",
    "* Definitely use compression otherwise you will fill up your hdd. "
   ]
  },
  {
   "cell_type": "code",
   "execution_count": 1,
   "metadata": {},
   "outputs": [],
   "source": [
    "import h5py\n",
    "import numpy as np"
   ]
  },
  {
   "cell_type": "code",
   "execution_count": 3,
   "metadata": {},
   "outputs": [],
   "source": [
    "hdf5_store = h5py.File(\"./data.hdf5\", \"w\")\n",
    "dim = 100000\n",
    "\n",
    "results = hdf5_store.create_dataset(\n",
    "                                    name='data', \n",
    "                                    shape=(dim, dim), \n",
    "                                    data=np.random.randint(low=1, high=10, size=(dim,dim)),\n",
    "                                    compression='gzip'\n",
    "                                   )"
   ]
  },
  {
   "cell_type": "code",
   "execution_count": 4,
=======
   "cell_type": "code",
   "execution_count": 21,
>>>>>>> fe3bba152f877223582de7331b1a2e986259fc8e
   "metadata": {},
   "outputs": [
    {
     "data": {
      "text/plain": [
<<<<<<< HEAD
       "2"
      ]
     },
     "execution_count": 4,
=======
       "array([[5, 1, 6, ..., 5, 6, 7],\n",
       "       [8, 2, 4, ..., 4, 4, 5],\n",
       "       [5, 7, 5, ..., 4, 5, 3],\n",
       "       ...,\n",
       "       [5, 6, 8, ..., 9, 5, 6],\n",
       "       [4, 5, 3, ..., 1, 6, 9],\n",
       "       [2, 2, 5, ..., 2, 7, 5]])"
      ]
     },
     "execution_count": 21,
>>>>>>> fe3bba152f877223582de7331b1a2e986259fc8e
     "metadata": {},
     "output_type": "execute_result"
    }
   ],
   "source": [
<<<<<<< HEAD
    "results.ndim"
=======
    "new_matrix"
>>>>>>> fe3bba152f877223582de7331b1a2e986259fc8e
   ]
  },
  {
   "cell_type": "code",
<<<<<<< HEAD
   "execution_count": 5,
=======
   "execution_count": 22,
>>>>>>> fe3bba152f877223582de7331b1a2e986259fc8e
   "metadata": {},
   "outputs": [
    {
     "data": {
      "text/plain": [
<<<<<<< HEAD
       "(100000, 100000)"
      ]
     },
     "execution_count": 5,
=======
       "(10000, 10000)"
      ]
     },
     "execution_count": 22,
>>>>>>> fe3bba152f877223582de7331b1a2e986259fc8e
     "metadata": {},
     "output_type": "execute_result"
    }
   ],
   "source": [
<<<<<<< HEAD
    "results.shape"
=======
    "new_matrix.shape"
   ]
  },
  {
   "cell_type": "markdown",
   "metadata": {},
   "source": [
    "# Timing Code Execution\n",
    "\n",
    "There are a few factors that come into play when timing your code. One method is taking the starting time and subtracting the ending time. The other is using the `%timeit` special function which runs the code several times and takes an average of the execution time. The second method may be more accurate but less practical if you are just looking at how long it takes the code to run."
   ]
  },
  {
   "cell_type": "markdown",
   "metadata": {},
   "source": [
    "## Method 1: Using time Module\n",
    "\n",
    "* [time documentation](https://docs.python.org/3/library/time.html)"
>>>>>>> fe3bba152f877223582de7331b1a2e986259fc8e
   ]
  },
  {
   "cell_type": "code",
<<<<<<< HEAD
   "execution_count": 6,
   "metadata": {},
   "outputs": [
    {
     "data": {
      "text/plain": [
       "10000000000"
      ]
     },
     "execution_count": 6,
     "metadata": {},
     "output_type": "execute_result"
    }
   ],
   "source": [
    "results.size"
=======
   "execution_count": 31,
   "metadata": {},
   "outputs": [],
   "source": [
    "# Let's use the time module\n",
    "import time"
>>>>>>> fe3bba152f877223582de7331b1a2e986259fc8e
   ]
  },
  {
   "cell_type": "code",
<<<<<<< HEAD
   "execution_count": 7,
   "metadata": {},
   "outputs": [
    {
     "data": {
      "text/plain": [
       "dtype('int32')"
      ]
     },
     "execution_count": 7,
     "metadata": {},
     "output_type": "execute_result"
    }
   ],
   "source": [
    "results.dtype"
=======
   "execution_count": 38,
   "metadata": {},
   "outputs": [
    {
     "name": "stdout",
     "output_type": "stream",
     "text": [
      "1583081506.3349175\n"
     ]
    }
   ],
   "source": [
    "# Returns the current time in seconds since the Epoch.\n",
    "print(time.time())"
>>>>>>> fe3bba152f877223582de7331b1a2e986259fc8e
   ]
  },
  {
   "cell_type": "code",
<<<<<<< HEAD
   "execution_count": 8,
   "metadata": {},
   "outputs": [],
   "source": [
    "hdf5_store.close()"
   ]
  },
  {
   "cell_type": "code",
   "execution_count": 2,
   "metadata": {},
   "outputs": [],
   "source": [
    "with h5py.File('./data.hdf5', 'r') as f:\n",
    "    data_set = f['data']\n",
    "    data = data_set[:10]"
=======
   "execution_count": 39,
   "metadata": {},
   "outputs": [
    {
     "name": "stdout",
     "output_type": "stream",
     "text": [
      "The total time to run was  1.4613189697265625 second(s).\n"
     ]
    }
   ],
   "source": [
    "# Set starting time to t0\n",
    "t0 = time.time()\n",
    "\n",
    "# Run our matrix code\n",
    "np.random.randint(low=1, high=10, size=(10000,10000))\n",
    "\n",
    "# set our ending time to t1\n",
    "t1 = time.time()\n",
    "\n",
    "# The difference between t1-t0 is the time it took our matrix\n",
    "# code to execute.\n",
    "total_time = t1-t0\n",
    "\n",
    "# Let's print that here.\n",
    "print(\"The total time to run was \", total_time, \"second(s).\")"
   ]
  },
  {
   "cell_type": "markdown",
   "metadata": {},
   "source": [
    "## Method 2: Using %timeit\n",
    "\n",
    "`%timeit` only can be run in iPython or Jupyter Notebooks. It is what we call a _magic command_ that is provided by the IPython kernel. In other words, `%timeit` would not run in pure Python. Nonetheless, it is great for giving a more accurate execution time of your code. This is usually for determining the performance of your code."
>>>>>>> fe3bba152f877223582de7331b1a2e986259fc8e
   ]
  },
  {
   "cell_type": "code",
<<<<<<< HEAD
   "execution_count": 3,
   "metadata": {},
   "outputs": [
    {
     "data": {
      "text/plain": [
       "array([[1, 3, 2, ..., 3, 1, 7],\n",
       "       [5, 3, 2, ..., 2, 7, 7],\n",
       "       [7, 2, 9, ..., 6, 8, 2],\n",
       "       ...,\n",
       "       [2, 5, 2, ..., 2, 4, 6],\n",
       "       [2, 8, 1, ..., 2, 7, 7],\n",
       "       [2, 1, 2, ..., 5, 2, 3]])"
      ]
     },
     "execution_count": 3,
     "metadata": {},
     "output_type": "execute_result"
    }
   ],
   "source": [
    "data"
   ]
  },
  {
   "cell_type": "code",
   "execution_count": null,
   "metadata": {},
   "outputs": [],
   "source": []
=======
   "execution_count": 42,
   "metadata": {},
   "outputs": [
    {
     "name": "stdout",
     "output_type": "stream",
     "text": [
      "16.4 ms ± 1.43 ms per loop (mean ± std. dev. of 7 runs, 100 loops each)\n"
     ]
    }
   ],
   "source": [
    "# Simply add a '%' in front of timeit to run this magic command.\n",
    "\n",
    "%timeit np.random.randint(low=1, high=10, size=(1000,1000))"
   ]
  },
  {
   "cell_type": "markdown",
   "metadata": {},
   "source": [
    "In this case we are returned with the time it took to run the underlying code in milliseconds. The `%timeit` output also returns the mean and standard deviation of the runs."
   ]
>>>>>>> fe3bba152f877223582de7331b1a2e986259fc8e
  }
 ],
 "metadata": {
  "kernelspec": {
   "display_name": "Python 3",
   "language": "python",
   "name": "python3"
  },
  "language_info": {
   "codemirror_mode": {
    "name": "ipython",
    "version": 3
   },
   "file_extension": ".py",
   "mimetype": "text/x-python",
   "name": "python",
   "nbconvert_exporter": "python",
   "pygments_lexer": "ipython3",
   "version": "3.7.6"
  }
 },
 "nbformat": 4,
 "nbformat_minor": 4
}
