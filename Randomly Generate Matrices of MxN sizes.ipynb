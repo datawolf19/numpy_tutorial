{
 "cells": [
  {
   "cell_type": "markdown",
   "metadata": {},
   "source": [
    "## numpy Documentation \n",
    "\n",
    "* https://docs.scipy.org/doc/numpy/ \n",
    "\n",
    "I'll refer to the main numpy through out this tutorial to point out specific sections that are relevant. \n",
    "\n",
    "### Running Jupyter Notebook Cells\n",
    "\n",
    "Jupyter notebook is a great way to code iteratively. You can run a cell by clicking on the \"Run\" button above or you can use the shortcut by holding both \"Shift + Enter\" or \"Shift + Return\" (on mac) to run a cell. "
   ]
  },
  {
   "cell_type": "code",
   "execution_count": 1,
   "metadata": {},
   "outputs": [],
   "source": [
    "# <-- Means comment. I'll be using a lot of comments in this notebook.\n",
    "# In this first cell we are going to import the libraries to use for\n",
    "# creating our matrix. \n",
    "\n",
    "# numpy is imported as 'np' as a convention. \n",
    "\n",
    "import numpy as np "
   ]
  },
  {
   "cell_type": "code",
   "execution_count": 2,
   "metadata": {},
   "outputs": [],
   "source": [
    "# There are a couple data structures that we will rely on. As you may \n",
    "# know the basic data structure is a numpy array (vector)."
   ]
  },
  {
   "cell_type": "code",
   "execution_count": 3,
   "metadata": {},
   "outputs": [
    {
     "name": "stdout",
     "output_type": "stream",
     "text": [
      "[1 2 3 4]\n"
     ]
    }
   ],
   "source": [
    "# Basic building block of numpy as the array. Here we are going to use\n",
    "# a list (denoted by square brackets) to create an array. \n",
    "\n",
    "# Creating list mylist\n",
    "mylist = [1,2,3,4]\n",
    "\n",
    "# Transforming mylist into an array:\n",
    "myarray = np.array(mylist)\n",
    "\n",
    "# Reviewing the output of myarray:\n",
    "print(myarray)\n",
    "\n",
    "# Still looks like a list but it is really a numpy array. Let's \n",
    "# take a closer look."
   ]
  },
  {
   "cell_type": "code",
   "execution_count": 4,
   "metadata": {},
   "outputs": [
    {
     "name": "stdout",
     "output_type": "stream",
     "text": [
      "<class 'numpy.ndarray'>\n"
     ]
    }
   ],
   "source": [
    "# Reviewing the data type of myarray:\n",
    "print(type(myarray))\n",
    "\n",
    "# Notice that the array is called an ndarray. This is short for \n",
    "# n-dimensional array. We can quickly find the shape (number of \n",
    "# rows vs columns) by using a numpy method. "
   ]
  },
  {
   "cell_type": "markdown",
   "metadata": {},
   "source": [
    "### Documentation for Shape\n",
    "\n",
    "* https://docs.scipy.org/doc/numpy/reference/generated/numpy.ndarray.shape.html"
   ]
  },
  {
   "cell_type": "code",
   "execution_count": 5,
   "metadata": {},
   "outputs": [
    {
     "data": {
      "text/plain": [
       "(4,)"
      ]
     },
     "execution_count": 5,
     "metadata": {},
     "output_type": "execute_result"
    }
   ],
   "source": [
    "# This means we have an array with four entries. We will use this later\n",
    "# when verifying the shape of our randomly generated matrix. \n",
    "myarray.shape"
   ]
  },
  {
   "cell_type": "markdown",
   "metadata": {},
   "source": [
    "# Generating a Random Number\n",
    "\n",
    "Relevant Doc: https://docs.scipy.org/doc/numpy-1.15.0/reference/generated/numpy.random.random.html\n",
    "\n",
    "numpy provides a random class that generates real or integer numbers for us automatically. Let's take a look:"
   ]
  },
  {
   "cell_type": "code",
   "execution_count": 6,
   "metadata": {},
   "outputs": [
    {
     "data": {
      "text/plain": [
       "0.5808285831200546"
      ]
     },
     "execution_count": 6,
     "metadata": {},
     "output_type": "execute_result"
    }
   ],
   "source": [
    "# How to generate a single real random number. By default it will\n",
    "# generate a real number between 0 and 1.\n",
    "\n",
    "np.random.random()"
   ]
  },
  {
   "cell_type": "code",
   "execution_count": 7,
   "metadata": {},
   "outputs": [
    {
     "data": {
      "text/plain": [
       "2"
      ]
     },
     "execution_count": 7,
     "metadata": {},
     "output_type": "execute_result"
    }
   ],
   "source": [
    "# How to generate a single integer number. Here, the input determines\n",
    "# what kind of data is returned to us. \n",
    "\n",
    "# If we enter one digit it will randomly select an integer from 0 to\n",
    "# one less the provided number. For example, if we enter 3 into our\n",
    "# randint method numpy will generate a number between 0 and 2. This \n",
    "# means it excludes the number we provided. Everything up to but not\n",
    "# including the input will be randomly generated. \n",
    "\n",
    "np.random.randint(3)"
   ]
  },
  {
   "cell_type": "markdown",
   "metadata": {},
   "source": [
    "# Generating a Random Matrix\n",
    "\n",
    "Relevant doc: https://docs.scipy.org/doc/numpy-1.15.1/reference/generated/numpy.random.randint.html\n",
    "\n",
    "This is helpful in explaining the parameters for the randint method."
   ]
  },
  {
   "cell_type": "code",
   "execution_count": 8,
   "metadata": {},
   "outputs": [],
   "source": [
    "# Creating a matrix of shape 1000 x 1000 with randomly generated \n",
    "# integers from 1 to 9 (included).\n",
    "\n",
    "data = np.random.randint(low=1, high=10, size=(1000,1000))\n",
    "\n",
    "# This randint method is nice because it does the work of creating\n",
    "# the randomly generated matrix with lower and upper thresholds for\n",
    "# the element values. Plus, it defines the size of the matrix for you.\n"
   ]
  },
  {
   "cell_type": "code",
   "execution_count": 9,
   "metadata": {},
   "outputs": [
    {
     "data": {
      "text/plain": [
       "array([[7, 4, 9, ..., 1, 6, 5],\n",
       "       [2, 1, 9, ..., 7, 6, 2],\n",
       "       [2, 1, 8, ..., 8, 8, 9],\n",
       "       ...,\n",
       "       [3, 2, 3, ..., 9, 4, 7],\n",
       "       [4, 4, 8, ..., 6, 4, 9],\n",
       "       [3, 7, 8, ..., 5, 9, 8]])"
      ]
     },
     "execution_count": 9,
     "metadata": {},
     "output_type": "execute_result"
    }
   ],
   "source": [
    "# Preview of the data. Too big to display all of it. What jupyter does\n",
    "# is it gives you a preview of the first few records and then skip\n",
    "# to the tail (or end) and show you the last few records in the \n",
    "# matrix. \n",
    "data"
   ]
  },
  {
   "cell_type": "code",
   "execution_count": 10,
   "metadata": {},
   "outputs": [
    {
     "data": {
      "text/plain": [
       "(1000, 1000)"
      ]
     },
     "execution_count": 10,
     "metadata": {},
     "output_type": "execute_result"
    }
   ],
   "source": [
    "# The shape method returns a tuple of the (rows, columns) for \n",
    "# the data array. \n",
    "\n",
    "data.shape"
   ]
  },
  {
   "cell_type": "code",
   "execution_count": 11,
   "metadata": {},
   "outputs": [
    {
     "data": {
      "text/plain": [
       "9"
      ]
     },
     "execution_count": 11,
     "metadata": {},
     "output_type": "execute_result"
    }
   ],
   "source": [
    "# Checking the maximum value in the matrix. We would expect 9 since\n",
    "# we defined our high parameter as 10. Recall that it is up to but not\n",
    "# including the high number. \n",
    "\n",
    "data.max()"
   ]
  },
  {
   "cell_type": "code",
   "execution_count": 12,
   "metadata": {},
   "outputs": [
    {
     "data": {
      "text/plain": [
       "1"
      ]
     },
     "execution_count": 12,
     "metadata": {},
     "output_type": "execute_result"
    }
   ],
   "source": [
    "# Verifying that the lowest integer in our matrix matches the \n",
    "# parameters above. \n",
    "\n",
    "data.min()"
   ]
  },
  {
   "cell_type": "code",
   "execution_count": 13,
   "metadata": {},
   "outputs": [
    {
     "data": {
      "text/plain": [
       "array([[7, 4, 9, ..., 1, 6, 5],\n",
       "       [2, 1, 9, ..., 7, 6, 2]])"
      ]
     },
     "execution_count": 13,
     "metadata": {},
     "output_type": "execute_result"
    }
   ],
   "source": [
    "# This shows the first two arrays in the data matrix. \n",
    "data[:2]"
   ]
  },
  {
   "cell_type": "markdown",
   "metadata": {},
   "source": [
    "# Finding Inverse of a Matrix\n",
    "\n",
    "Here, we will use the Linear Algebra class in the numpy library.\n",
    "\n",
    "Relevant doc: https://docs.scipy.org/doc/numpy/reference/routines.linalg.html"
   ]
  },
  {
   "cell_type": "code",
   "execution_count": 31,
   "metadata": {},
   "outputs": [],
   "source": [
    "# Let's create a matrix called A using the randint method.\n",
    "\n",
    "A = np.random.randint(low=1, high=10, size=(1000,1000))"
   ]
  },
  {
   "cell_type": "code",
   "execution_count": 32,
   "metadata": {},
   "outputs": [],
   "source": [
    "# Creates the inverse of matrix A.\n",
    "inv_A = np.linalg.inv(A)"
   ]
  },
  {
   "cell_type": "code",
   "execution_count": 33,
   "metadata": {},
   "outputs": [
    {
     "data": {
      "text/plain": [
       "array([[ 0.16534819,  0.02048358,  0.20419251, ...,  0.08223049,\n",
       "         0.19077942, -0.11074238],\n",
       "       [ 0.02987578, -0.00484866,  0.07188619, ...,  0.0249551 ,\n",
       "         0.03525042, -0.0228002 ],\n",
       "       [-0.12338765, -0.01607628, -0.14600891, ..., -0.05990657,\n",
       "        -0.1448447 ,  0.08123378],\n",
       "       ...,\n",
       "       [-0.10186225, -0.00114145, -0.08034437, ..., -0.0203317 ,\n",
       "        -0.05344795,  0.02203437],\n",
       "       [-0.03053698, -0.00073196, -0.02667256, ..., -0.01260905,\n",
       "        -0.03475255,  0.02674155],\n",
       "       [-0.18604652, -0.0014895 , -0.15529609, ..., -0.042388  ,\n",
       "        -0.1079657 ,  0.07397349]])"
      ]
     },
     "execution_count": 33,
     "metadata": {},
     "output_type": "execute_result"
    }
   ],
   "source": [
    "# Let's preview A.\n",
    "inv_A"
   ]
  },
  {
   "cell_type": "code",
   "execution_count": 17,
   "metadata": {},
   "outputs": [
    {
     "data": {
      "text/plain": [
       "array([[ 1.00000000e+00,  5.05706588e-14,  2.99760217e-14, ...,\n",
       "         3.69704267e-14,  8.49320614e-15, -2.80886425e-14],\n",
       "       [ 2.04281037e-14,  1.00000000e+00, -5.20694599e-14, ...,\n",
       "        -5.26245714e-14,  9.17044218e-14, -1.21902488e-13],\n",
       "       [-6.89170943e-14, -1.42733048e-14,  1.00000000e+00, ...,\n",
       "        -1.02633180e-13, -5.60107516e-14, -1.57672486e-13],\n",
       "       ...,\n",
       "       [ 1.84643967e-14,  1.30451205e-14,  9.74220704e-15, ...,\n",
       "         1.00000000e+00,  1.64313008e-14,  1.19904087e-14],\n",
       "       [ 2.92266211e-14,  3.14054338e-14,  1.69031455e-14, ...,\n",
       "         2.75890422e-14,  1.00000000e+00,  1.73194792e-14],\n",
       "       [-3.39867023e-14, -3.59157148e-14, -1.92068583e-14, ...,\n",
       "        -3.77198273e-14, -1.89570581e-14,  1.00000000e+00]])"
      ]
     },
     "execution_count": 17,
     "metadata": {},
     "output_type": "execute_result"
    }
   ],
   "source": [
    "#  Okay, but how do we know that this actually generated the inverse\n",
    "# of matrix A? We know that the dot product of a matrix and its inverse\n",
    "# results in an identity matrix. \n",
    "\n",
    "np.dot(inv_A, A)"
   ]
  },
  {
   "cell_type": "code",
   "execution_count": 29,
   "metadata": {},
   "outputs": [],
   "source": [
    "# Looks a bit odd but this is because the numbers are very small.\n",
    "# Let's use round and abs methods to clean this up.\n",
    "\n",
    "\n",
    "identity_matrix = np.dot(inv_A, A)\n",
    "\n",
    "# Absolute Value of rounded dot_product\n",
    "identity_matrix = np.abs(identity_matrix.round())"
   ]
  },
  {
   "cell_type": "code",
   "execution_count": 30,
   "metadata": {},
   "outputs": [
    {
     "data": {
      "text/plain": [
       "array([[1., 0., 0., ..., 0., 0., 0.],\n",
       "       [0., 1., 0., ..., 0., 0., 0.],\n",
       "       [0., 0., 1., ..., 0., 0., 0.],\n",
       "       ...,\n",
       "       [0., 0., 0., ..., 1., 0., 0.],\n",
       "       [0., 0., 0., ..., 0., 1., 0.],\n",
       "       [0., 0., 0., ..., 0., 0., 1.]])"
      ]
     },
     "execution_count": 30,
     "metadata": {},
     "output_type": "execute_result"
    }
   ],
   "source": [
    "identity_matrix"
   ]
  },
  {
   "cell_type": "code",
   "execution_count": null,
   "metadata": {},
   "outputs": [],
   "source": [
    "# Ok, what about a matrix of size 10,000 x 10,000?\n",
    "\n",
    "\n",
    "new_matrix = np.random.randint(low=1, high=10, size=(10000,10000))\n"
   ]
  }
 ],
 "metadata": {
  "kernelspec": {
   "display_name": "Python 3",
   "language": "python",
   "name": "python3"
  },
  "language_info": {
   "codemirror_mode": {
    "name": "ipython",
    "version": 3
   },
   "file_extension": ".py",
   "mimetype": "text/x-python",
   "name": "python",
   "nbconvert_exporter": "python",
   "pygments_lexer": "ipython3",
   "version": "3.7.6"
  }
 },
 "nbformat": 4,
 "nbformat_minor": 4
}
