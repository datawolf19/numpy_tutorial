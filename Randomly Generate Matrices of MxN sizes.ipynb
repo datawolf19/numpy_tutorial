{
 "cells": [
  {
   "cell_type": "markdown",
   "metadata": {},
   "source": [
    "## numpy Documentation \n",
    "\n",
    "* https://docs.scipy.org/doc/numpy/ \n",
    "\n",
    "I'll refer to the main numpy through out this tutorial to point out specific sections that are relevant. \n",
    "\n",
    "### Running Jupyter Notebook Cells\n",
    "\n",
    "Jupyter notebook is a great way to code iteratively. You can run a cell by clicking on the \"Run\" button above or you can use the shortcut by holding both \"Shift + Enter\" or \"Shift + Return\" (on mac) to run a cell. "
   ]
  },
  {
   "cell_type": "code",
   "execution_count": 1,
   "metadata": {},
   "outputs": [],
   "source": [
    "# <-- Means comment. I'll be using a lot of comments in this notebook.\n",
    "# In this first cell we are going to import the libraries to use for\n",
    "# creating our matrix. \n",
    "\n",
    "# numpy is imported as 'np' as a convention. \n",
    "\n",
    "import numpy as np "
   ]
  },
  {
   "cell_type": "code",
   "execution_count": 2,
   "metadata": {},
   "outputs": [],
   "source": [
    "# There are a couple data structures that we will rely on. As you may \n",
    "# know the basic data structure is a numpy array (vector)."
   ]
  },
  {
   "cell_type": "code",
   "execution_count": 3,
   "metadata": {},
   "outputs": [
    {
     "name": "stdout",
     "output_type": "stream",
     "text": [
      "[1 2 3 4]\n"
     ]
    }
   ],
   "source": [
    "# Basic building block of numpy as the array. Here we are going to use\n",
    "# a list (denoted by square brackets) to create an array. \n",
    "\n",
    "# Creating list mylist\n",
    "mylist = [1,2,3,4]\n",
    "\n",
    "# Transforming mylist into an array:\n",
    "myarray = np.array(mylist)\n",
    "\n",
    "# Reviewing the output of myarray:\n",
    "print(myarray)\n",
    "\n",
    "# Still looks like a list but it is really a numpy array. Let's \n",
    "# take a closer look."
   ]
  },
  {
   "cell_type": "code",
   "execution_count": 4,
   "metadata": {},
   "outputs": [
    {
     "name": "stdout",
     "output_type": "stream",
     "text": [
      "<class 'numpy.ndarray'>\n"
     ]
    }
   ],
   "source": [
    "# Reviewing the data type of myarray:\n",
    "print(type(myarray))\n",
    "\n",
    "# Notice that the array is called an ndarray. This is short for \n",
    "# n-dimensional array. We can quickly find the shape (number of \n",
    "# rows vs columns) by using a numpy method. "
   ]
  },
  {
   "cell_type": "markdown",
   "metadata": {},
   "source": [
    "### Documentation for Shape\n",
    "\n",
    "* https://docs.scipy.org/doc/numpy/reference/generated/numpy.ndarray.shape.html"
   ]
  },
  {
   "cell_type": "code",
   "execution_count": 5,
   "metadata": {},
   "outputs": [
    {
     "data": {
      "text/plain": [
       "(4,)"
      ]
     },
     "execution_count": 5,
     "metadata": {},
     "output_type": "execute_result"
    }
   ],
   "source": [
    "# This means we have an array with four entries. We will use this later\n",
    "# when verifying the shape of our randomly generated matrix. \n",
    "myarray.shape"
   ]
  },
  {
   "cell_type": "markdown",
   "metadata": {},
   "source": [
    "# Generating a Random Number\n",
    "\n",
    "Relevant Doc: https://docs.scipy.org/doc/numpy-1.15.0/reference/generated/numpy.random.random.html\n",
    "\n",
    "numpy provides a random class that generates real or integer numbers for us automatically. Let's take a look:"
   ]
  },
  {
   "cell_type": "code",
   "execution_count": 6,
   "metadata": {},
   "outputs": [
    {
     "data": {
      "text/plain": [
       "0.1451369609652211"
      ]
     },
     "execution_count": 6,
     "metadata": {},
     "output_type": "execute_result"
    }
   ],
   "source": [
    "# How to generate a single real random number. By default it will\n",
    "# generate a real number between 0 and 1.\n",
    "\n",
    "np.random.random()"
   ]
  },
  {
   "cell_type": "code",
   "execution_count": 7,
   "metadata": {},
   "outputs": [
    {
     "data": {
      "text/plain": [
       "0"
      ]
     },
     "execution_count": 7,
     "metadata": {},
     "output_type": "execute_result"
    }
   ],
   "source": [
    "# How to generate a single integer number. Here, the input determines\n",
    "# what kind of data is returned to us. \n",
    "\n",
    "# If we enter one digit it will randomly select an integer from 0 to\n",
    "# one less the provided number. For example, if we enter 3 into our\n",
    "# randint method numpy will generate a number between 0 and 2. This \n",
    "# means it excludes the number we provided. Everything up to but not\n",
    "# including the input will be randomly generated. \n",
    "\n",
    "np.random.randint(3)"
   ]
  },
  {
   "cell_type": "markdown",
   "metadata": {},
   "source": [
    "# Generating a Random Matrix\n",
    "\n",
    "Relevant doc: https://docs.scipy.org/doc/numpy-1.15.1/reference/generated/numpy.random.randint.html\n",
    "\n",
    "This is helpful in explaining the parameters for the randint method."
   ]
  },
  {
   "cell_type": "code",
   "execution_count": 8,
   "metadata": {},
   "outputs": [],
   "source": [
    "# Creating a matrix of shape 1000 x 1000 with randomly generated \n",
    "# integers from 1 to 9 (included).\n",
    "\n",
    "data = np.random.randint(low=1, high=10, size=(1000,1000))\n",
    "\n",
    "# This randint method is nice because it does the work of creating\n",
    "# the randomly generated matrix with lower and upper thresholds for\n",
    "# the element values. Plus, it defines the size of the matrix for you.\n"
   ]
  },
  {
   "cell_type": "code",
   "execution_count": 9,
   "metadata": {},
   "outputs": [
    {
     "data": {
      "text/plain": [
       "array([[8, 4, 3, ..., 1, 5, 8],\n",
       "       [8, 6, 2, ..., 4, 5, 9],\n",
       "       [4, 7, 3, ..., 1, 1, 3],\n",
       "       ...,\n",
       "       [8, 8, 5, ..., 2, 3, 3],\n",
       "       [2, 4, 8, ..., 9, 8, 6],\n",
       "       [6, 7, 9, ..., 2, 6, 1]])"
      ]
     },
     "execution_count": 9,
     "metadata": {},
     "output_type": "execute_result"
    }
   ],
   "source": [
    "# Preview of the data. Too big to display all of it. What jupyter does\n",
    "# is it gives you a preview of the first few records and then skip\n",
    "# to the tail (or end) and show you the last few records in the \n",
    "# matrix. \n",
    "data"
   ]
  },
  {
   "cell_type": "code",
   "execution_count": 10,
   "metadata": {},
   "outputs": [
    {
     "data": {
      "text/plain": [
       "(1000, 1000)"
      ]
     },
     "execution_count": 10,
     "metadata": {},
     "output_type": "execute_result"
    }
   ],
   "source": [
    "# The shape method returns a tuple of the (rows, columns) for \n",
    "# the data array. \n",
    "\n",
    "data.shape"
   ]
  },
  {
   "cell_type": "code",
   "execution_count": 11,
   "metadata": {},
   "outputs": [
    {
     "data": {
      "text/plain": [
       "9"
      ]
     },
     "execution_count": 11,
     "metadata": {},
     "output_type": "execute_result"
    }
   ],
   "source": [
    "# Checking the maximum value in the matrix. We would expect 9 since\n",
    "# we defined our high parameter as 10. Recall that it is up to but not\n",
    "# including the high number. \n",
    "\n",
    "data.max()"
   ]
  },
  {
   "cell_type": "code",
   "execution_count": 12,
   "metadata": {},
   "outputs": [
    {
     "data": {
      "text/plain": [
       "1"
      ]
     },
     "execution_count": 12,
     "metadata": {},
     "output_type": "execute_result"
    }
   ],
   "source": [
    "# Verifying that the lowest integer in our matrix matches the \n",
    "# parameters above. \n",
    "\n",
    "data.min()"
   ]
  },
  {
   "cell_type": "code",
   "execution_count": 13,
   "metadata": {},
   "outputs": [
    {
     "data": {
      "text/plain": [
       "array([[8, 4, 3, ..., 1, 5, 8],\n",
       "       [8, 6, 2, ..., 4, 5, 9]])"
      ]
     },
     "execution_count": 13,
     "metadata": {},
     "output_type": "execute_result"
    }
   ],
   "source": [
    "# This shows the first two arrays in the data matrix. \n",
    "data[:2]"
   ]
  },
  {
   "cell_type": "markdown",
   "metadata": {},
   "source": [
    "# Finding Inverse of a Matrix\n",
    "\n",
    "Here, we will use the Linear Algebra class in the numpy library.\n",
    "\n",
    "Relevant doc: https://docs.scipy.org/doc/numpy/reference/routines.linalg.html"
   ]
  },
  {
   "cell_type": "code",
   "execution_count": 14,
   "metadata": {},
   "outputs": [],
   "source": [
    "# Let's create a matrix called A using the randint method.\n",
    "\n",
    "A = np.random.randint(low=1, high=10, size=(1000,1000))"
   ]
  },
  {
   "cell_type": "code",
   "execution_count": 15,
   "metadata": {},
   "outputs": [],
   "source": [
    "# Creates the inverse of matrix A.\n",
    "inv_A = np.linalg.inv(A)"
   ]
  },
  {
   "cell_type": "code",
   "execution_count": 16,
   "metadata": {},
   "outputs": [
    {
     "data": {
      "text/plain": [
       "array([[-4.31429149e-02, -4.46806811e-03,  4.20605526e-02, ...,\n",
       "         2.13410664e-03, -2.32041024e-02, -5.46730636e-02],\n",
       "       [ 4.25537401e-02,  2.05757835e-02, -2.93632223e-02, ...,\n",
       "         4.55843361e-03,  3.17459960e-02,  6.91201380e-02],\n",
       "       [-4.29975831e-02, -4.32581909e-03,  4.35803857e-02, ...,\n",
       "         1.43039067e-03, -2.04716194e-02, -6.49787279e-02],\n",
       "       ...,\n",
       "       [ 1.18553912e-01,  1.49706633e-02, -1.19088466e-01, ...,\n",
       "        -1.08290056e-02,  7.56539636e-02,  1.75939293e-01],\n",
       "       [ 2.60731670e-02,  7.31013404e-03, -4.50436442e-02, ...,\n",
       "         5.57041169e-03,  3.22120928e-02,  5.50177204e-02],\n",
       "       [-7.23417657e-02, -3.51255654e-02,  6.62278060e-02, ...,\n",
       "        -9.12383401e-05, -5.29266162e-02, -1.10745716e-01]])"
      ]
     },
     "execution_count": 16,
     "metadata": {},
     "output_type": "execute_result"
    }
   ],
   "source": [
    "# Let's preview A.\n",
    "inv_A"
   ]
  },
  {
   "cell_type": "code",
   "execution_count": 17,
   "metadata": {},
   "outputs": [
    {
     "data": {
      "text/plain": [
       "array([[ 1.00000000e+00,  3.92741395e-13,  1.73666637e-13, ...,\n",
       "        -8.42173553e-14,  8.31279490e-14, -4.39648318e-14],\n",
       "       [ 6.66716682e-13,  1.00000000e+00, -5.51475532e-13, ...,\n",
       "        -2.31537012e-13, -1.26149091e-13, -4.32320846e-13],\n",
       "       [-4.70387618e-13, -8.04911693e-14,  1.00000000e+00, ...,\n",
       "        -4.11795598e-13, -3.81639165e-13,  4.52637927e-13],\n",
       "       ...,\n",
       "       [ 6.57807142e-14,  2.18047802e-13,  1.53876911e-13, ...,\n",
       "         1.00000000e+00, -8.78186412e-14, -3.88578059e-15],\n",
       "       [ 2.10040318e-14,  3.77475828e-14,  2.26416108e-14, ...,\n",
       "         6.71337985e-14,  1.00000000e+00, -9.86710713e-15],\n",
       "       [-4.53248550e-14, -1.14130927e-13, -7.85205234e-14, ...,\n",
       "        -9.17321774e-14,  6.77791157e-14,  1.00000000e+00]])"
      ]
     },
     "execution_count": 17,
     "metadata": {},
     "output_type": "execute_result"
    }
   ],
   "source": [
    "#  Okay, but how do we know that this actually generated the inverse\n",
    "# of matrix A? We know that the dot product of a matrix and its inverse\n",
    "# results in an identity matrix. \n",
    "\n",
    "np.dot(inv_A, A)"
   ]
  },
  {
   "cell_type": "code",
   "execution_count": 18,
   "metadata": {},
   "outputs": [],
   "source": [
    "# Looks a bit odd but this is because the numbers are very small.\n",
    "# Let's use round and abs methods to clean this up.\n",
    "\n",
    "\n",
    "identity_matrix = np.dot(inv_A, A)\n",
    "\n",
    "# Absolute Value of rounded dot_product\n",
    "identity_matrix = np.abs(identity_matrix.round())"
   ]
  },
  {
   "cell_type": "code",
   "execution_count": 19,
   "metadata": {},
   "outputs": [
    {
     "data": {
      "text/plain": [
       "array([[1., 0., 0., ..., 0., 0., 0.],\n",
       "       [0., 1., 0., ..., 0., 0., 0.],\n",
       "       [0., 0., 1., ..., 0., 0., 0.],\n",
       "       ...,\n",
       "       [0., 0., 0., ..., 1., 0., 0.],\n",
       "       [0., 0., 0., ..., 0., 1., 0.],\n",
       "       [0., 0., 0., ..., 0., 0., 1.]])"
      ]
     },
     "execution_count": 19,
     "metadata": {},
     "output_type": "execute_result"
    }
   ],
   "source": [
    "identity_matrix"
   ]
  },
  {
   "cell_type": "code",
   "execution_count": 20,
   "metadata": {},
   "outputs": [],
   "source": [
    "# Ok, what about a matrix of size 10,000 x 10,000?\n",
    "\n",
    "\n",
    "new_matrix = np.random.randint(low=1, high=10, size=(10000,10000))\n"
   ]
  },
  {
   "cell_type": "markdown",
   "metadata": {},
   "source": [
    "# Handling Huge Arrays\n",
    "\n",
    "* Use h5py\n",
    "* Stores data on the hard drive.\n",
    "* Definitely use compression otherwise you will fill up your hdd. "
   ]
  },
  {
   "cell_type": "code",
   "execution_count": 1,
   "metadata": {},
   "outputs": [],
   "source": [
    "import h5py\n",
    "import numpy as np"
   ]
  },
  {
   "cell_type": "code",
   "execution_count": 3,
   "metadata": {},
   "outputs": [],
   "source": [
    "hdf5_store = h5py.File(\"./data.hdf5\", \"w\")\n",
    "dim = 100000\n",
    "\n",
    "results = hdf5_store.create_dataset(\n",
    "                                    name='data', \n",
    "                                    shape=(dim, dim), \n",
    "                                    data=np.random.randint(low=1, high=10, size=(dim,dim)),\n",
    "                                    compression='gzip'\n",
    "                                   )"
   ]
  },
  {
   "cell_type": "code",
   "execution_count": 4,
   "metadata": {},
   "outputs": [
    {
     "data": {
      "text/plain": [
       "2"
      ]
     },
     "execution_count": 4,
     "metadata": {},
     "output_type": "execute_result"
    }
   ],
   "source": [
    "results.ndim"
   ]
  },
  {
   "cell_type": "code",
   "execution_count": 5,
   "metadata": {},
   "outputs": [
    {
     "data": {
      "text/plain": [
       "(100000, 100000)"
      ]
     },
     "execution_count": 5,
     "metadata": {},
     "output_type": "execute_result"
    }
   ],
   "source": [
    "results.shape"
   ]
  },
  {
   "cell_type": "code",
   "execution_count": 6,
   "metadata": {},
   "outputs": [
    {
     "data": {
      "text/plain": [
       "10000000000"
      ]
     },
     "execution_count": 6,
     "metadata": {},
     "output_type": "execute_result"
    }
   ],
   "source": [
    "results.size"
   ]
  },
  {
   "cell_type": "code",
   "execution_count": 7,
   "metadata": {},
   "outputs": [
    {
     "data": {
      "text/plain": [
       "dtype('int32')"
      ]
     },
     "execution_count": 7,
     "metadata": {},
     "output_type": "execute_result"
    }
   ],
   "source": [
    "results.dtype"
   ]
  },
  {
   "cell_type": "code",
   "execution_count": 8,
   "metadata": {},
   "outputs": [],
   "source": [
    "hdf5_store.close()"
   ]
  },
  {
   "cell_type": "code",
   "execution_count": 2,
   "metadata": {},
   "outputs": [],
   "source": [
    "with h5py.File('./data.hdf5', 'r') as f:\n",
    "    data_set = f['data']\n",
    "    data = data_set[:10]"
   ]
  },
  {
   "cell_type": "code",
   "execution_count": 3,
   "metadata": {},
   "outputs": [
    {
     "data": {
      "text/plain": [
       "array([[1, 3, 2, ..., 3, 1, 7],\n",
       "       [5, 3, 2, ..., 2, 7, 7],\n",
       "       [7, 2, 9, ..., 6, 8, 2],\n",
       "       ...,\n",
       "       [2, 5, 2, ..., 2, 4, 6],\n",
       "       [2, 8, 1, ..., 2, 7, 7],\n",
       "       [2, 1, 2, ..., 5, 2, 3]])"
      ]
     },
     "execution_count": 3,
     "metadata": {},
     "output_type": "execute_result"
    }
   ],
   "source": [
    "data"
   ]
  },
  {
   "cell_type": "code",
   "execution_count": null,
   "metadata": {},
   "outputs": [],
   "source": []
  }
 ],
 "metadata": {
  "kernelspec": {
   "display_name": "Python 3",
   "language": "python",
   "name": "python3"
  },
  "language_info": {
   "codemirror_mode": {
    "name": "ipython",
    "version": 3
   },
   "file_extension": ".py",
   "mimetype": "text/x-python",
   "name": "python",
   "nbconvert_exporter": "python",
   "pygments_lexer": "ipython3",
   "version": "3.7.6"
  }
 },
 "nbformat": 4,
 "nbformat_minor": 4
}
