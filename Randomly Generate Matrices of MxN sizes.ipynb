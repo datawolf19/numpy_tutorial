{
 "cells": [
  {
   "cell_type": "markdown",
   "metadata": {},
   "source": [
    "## Useful Documentation \n",
    "\n",
    "* https://docs.scipy.org/doc/numpy/ \n",
    "\n",
    "I'll refer to the main numpy through out this tutorial to point out specific sections that are relevant. \n",
    "\n",
    "### Running Jupyter Notebook Cells\n",
    "\n",
    "Jupyter notebook is a great way to code iteratively. You can run a cell by clicking on the \"Run\" button above or you can use the shortcut by holding both \"Shift + Enter\" or \"Shift + Return\" (on mac) to run a cell. "
   ]
  },
  {
   "cell_type": "code",
   "execution_count": 1,
   "metadata": {},
   "outputs": [],
   "source": [
    "# <-- Means comment. I'll be using a lot of comments in this notebook.\n",
    "# In this first cell we are going to import the libraries to use for\n",
    "# creating our matrix. \n",
    "\n",
    "# numpy is imported as 'np' as a convention. \n",
    "\n",
    "import numpy as np "
   ]
  },
  {
   "cell_type": "code",
   "execution_count": 2,
   "metadata": {},
   "outputs": [],
   "source": [
    "# There are a couple data structures that we will rely on. As you may \n",
    "# know the basic data structure is a numpy array (vector)."
   ]
  },
  {
   "cell_type": "code",
   "execution_count": 3,
   "metadata": {},
   "outputs": [
    {
     "name": "stdout",
     "output_type": "stream",
     "text": [
      "[1 2 3 4]\n"
     ]
    }
   ],
   "source": [
    "# Basic building block of numpy as the array. Here we are going to use\n",
    "# a list (denoted by square brackets) to create an array. \n",
    "\n",
    "# Creating list mylist\n",
    "mylist = [1,2,3,4]\n",
    "\n",
    "# Transforming mylist into an array:\n",
    "myarray = np.array(mylist)\n",
    "\n",
    "# Reviewing the output of myarray:\n",
    "print(myarray)\n",
    "\n",
    "# Still looks like a list but it is really a numpy array. Let's \n",
    "# take a closer look."
   ]
  },
  {
   "cell_type": "code",
   "execution_count": 4,
   "metadata": {},
   "outputs": [
    {
     "name": "stdout",
     "output_type": "stream",
     "text": [
      "<class 'numpy.ndarray'>\n"
     ]
    }
   ],
   "source": [
    "# Reviewing the data type of myarray:\n",
    "print(type(myarray))\n",
    "\n",
    "# Notice that the array is called an ndarray. This is short for \n",
    "# n-dimensional array. We can quickly find the shape (number of \n",
    "# rows vs columns) by using a numpy method. "
   ]
  },
  {
   "cell_type": "code",
   "execution_count": 5,
   "metadata": {},
   "outputs": [
    {
     "data": {
      "text/plain": [
       "(4,)"
      ]
     },
     "execution_count": 5,
     "metadata": {},
     "output_type": "execute_result"
    }
   ],
   "source": [
    "# This means we have an array with four entries. We will use this later\n",
    "# when verifying the shape of our randomly generated matrix. \n",
    "myarray.shape"
   ]
  },
  {
   "cell_type": "markdown",
   "metadata": {},
   "source": [
    "# Generating a Random Number\n",
    "\n",
    "numpy provides a random class that generates real or integer numbers for us automatically. Let's take a look:"
   ]
  },
  {
   "cell_type": "code",
   "execution_count": 6,
   "metadata": {},
   "outputs": [
    {
     "data": {
      "text/plain": [
       "0.49093397495809843"
      ]
     },
     "execution_count": 6,
     "metadata": {},
     "output_type": "execute_result"
    }
   ],
   "source": [
    "# How to generate a single real random number. By default it will\n",
    "# generate a real number between 0 and 1.\n",
    "\n",
    "np.random.random()"
   ]
  },
  {
   "cell_type": "code",
   "execution_count": 7,
   "metadata": {},
   "outputs": [
    {
     "data": {
      "text/plain": [
       "2"
      ]
     },
     "execution_count": 7,
     "metadata": {},
     "output_type": "execute_result"
    }
   ],
   "source": [
    "# How to generate a single integer number. Here, the input determines\n",
    "# what kind of data is returned to us. \n",
    "\n",
    "# If we enter one digit it will randomly select an integer from 0 to\n",
    "# one less the provided number. For example, if we enter 3 into our\n",
    "# randint method numpy will generate a number between 0 and 2. This \n",
    "# means it excludes the number we provided. Everything up to but not\n",
    "# including the input will be randomly generated. \n",
    "\n",
    "np.random.randint(3)"
   ]
  },
  {
   "cell_type": "markdown",
   "metadata": {},
   "source": [
    "# Generating a Random Matrix"
   ]
  },
  {
   "cell_type": "code",
   "execution_count": 14,
   "metadata": {},
   "outputs": [],
   "source": [
    "# Creating a matrix of shape 1000 x 1000 with randomly generated \n",
    "# integers from 1 to 9 (included).\n",
    "\n",
    "data = np.random.randint(low=1, high=10, size=(1000,1000))\n",
    "\n",
    "# This randint method is nice because it does the work of creating\n",
    "# the randomly generated matrix with lower and upper thresholds for\n",
    "# the element values. Plus, it defines the size of the matrix for you.\n"
   ]
  },
  {
   "cell_type": "code",
   "execution_count": 13,
   "metadata": {},
   "outputs": [
    {
     "data": {
      "text/plain": [
       "array([[6, 3, 3, ..., 1, 4, 9],\n",
       "       [4, 3, 8, ..., 3, 9, 8],\n",
       "       [2, 8, 1, ..., 4, 9, 3],\n",
       "       ...,\n",
       "       [6, 9, 5, ..., 5, 9, 1],\n",
       "       [6, 4, 4, ..., 5, 5, 3],\n",
       "       [6, 1, 7, ..., 6, 4, 6]])"
      ]
     },
     "execution_count": 13,
     "metadata": {},
     "output_type": "execute_result"
    }
   ],
   "source": [
    "# Preview of the data. Too big to display all of it. What jupyter does\n",
    "# is it gives you a preview of the first few records and then skip\n",
    "# to the tail (or end) and show you the last few records in the \n",
    "# matrix. \n",
    "data"
   ]
  },
  {
   "cell_type": "code",
   "execution_count": 15,
   "metadata": {},
   "outputs": [
    {
     "data": {
      "text/plain": [
       "(1000, 1000)"
      ]
     },
     "execution_count": 15,
     "metadata": {},
     "output_type": "execute_result"
    }
   ],
   "source": [
    "# The shape method returns a tuple of the (rows, columns) for \n",
    "# the data array. \n",
    "\n",
    "data.shape"
   ]
  },
  {
   "cell_type": "code",
   "execution_count": 16,
   "metadata": {},
   "outputs": [
    {
     "data": {
      "text/plain": [
       "9"
      ]
     },
     "execution_count": 16,
     "metadata": {},
     "output_type": "execute_result"
    }
   ],
   "source": [
    "# Checking the maximum value in the matrix. We would expect 9 since\n",
    "# we defined our high parameter as 10. Recall that it is up to but not\n",
    "# including the high number. \n",
    "\n",
    "data.max()"
   ]
  },
  {
   "cell_type": "code",
   "execution_count": 17,
   "metadata": {},
   "outputs": [
    {
     "data": {
      "text/plain": [
       "1"
      ]
     },
     "execution_count": 17,
     "metadata": {},
     "output_type": "execute_result"
    }
   ],
   "source": [
    "# Verifying that the lowest integer in our matrix matches the \n",
    "# parameters above. \n",
    "\n",
    "data.min()"
   ]
  },
  {
   "cell_type": "code",
   "execution_count": 18,
   "metadata": {},
   "outputs": [
    {
     "data": {
      "text/plain": [
       "array([[2, 1, 9, ..., 5, 3, 6],\n",
       "       [3, 9, 4, ..., 7, 5, 3]])"
      ]
     },
     "execution_count": 18,
     "metadata": {},
     "output_type": "execute_result"
    }
   ],
   "source": [
    "# This shows the first two arrays in the data matrix. \n",
    "data[:2]"
   ]
  },
  {
   "cell_type": "markdown",
   "metadata": {},
   "source": [
    "# Finding Inverse of a Matrix"
   ]
  },
  {
   "cell_type": "code",
   "execution_count": 19,
   "metadata": {},
   "outputs": [],
   "source": [
    "# Let's create a matrix called A.\n",
    "\n",
    "A = np.random.randint(low=1, high=10, size=(1000,1000))"
   ]
  },
  {
   "cell_type": "code",
   "execution_count": 20,
   "metadata": {},
   "outputs": [],
   "source": [
    "inv_A = np.linalg.inv(A)"
   ]
  },
  {
   "cell_type": "code",
   "execution_count": 21,
   "metadata": {},
   "outputs": [
    {
     "data": {
      "text/plain": [
       "array([[ 0.04328592, -0.03678389,  0.08329243, ...,  0.10372268,\n",
       "        -0.05212738, -0.00731597],\n",
       "       [-0.09076974,  0.11044971, -0.16735512, ..., -0.21439707,\n",
       "         0.10511214,  0.02323509],\n",
       "       [-0.07937036,  0.06657925, -0.15968979, ..., -0.21176479,\n",
       "         0.10235839,  0.01785967],\n",
       "       ...,\n",
       "       [-0.060117  ,  0.05175911, -0.09196752, ..., -0.13579766,\n",
       "         0.07382596,  0.00934685],\n",
       "       [-0.03802639,  0.04354612, -0.08200904, ..., -0.09927617,\n",
       "         0.05916233, -0.008     ],\n",
       "       [ 0.00998248,  0.00880859,  0.01470354, ...,  0.02622527,\n",
       "        -0.00406968, -0.01968745]])"
      ]
     },
     "execution_count": 21,
     "metadata": {},
     "output_type": "execute_result"
    }
   ],
   "source": [
    "inv_A"
   ]
  },
  {
   "cell_type": "code",
   "execution_count": 22,
   "metadata": {},
   "outputs": [
    {
     "data": {
      "text/plain": [
       "array([[ 1.00000000e+00,  1.01696429e-12,  1.40554235e-13, ...,\n",
       "         3.24185123e-13,  6.65800748e-13,  3.88356014e-13],\n",
       "       [-7.30082661e-13,  1.00000000e+00, -7.08766379e-13, ...,\n",
       "        -4.58300065e-13, -6.94999613e-13, -5.95301586e-13],\n",
       "       [ 1.19015908e-13,  9.14823772e-14,  1.00000000e+00, ...,\n",
       "         1.95399252e-13,  8.03801470e-13,  2.73558953e-13],\n",
       "       ...,\n",
       "       [-1.42108547e-13, -2.71338507e-13, -7.59392549e-14, ...,\n",
       "         1.00000000e+00, -9.62563362e-14, -1.28341782e-13],\n",
       "       [-1.01252340e-13, -2.05613304e-13, -3.55271368e-14, ...,\n",
       "        -1.67421632e-13,  1.00000000e+00, -1.04027897e-13],\n",
       "       [ 2.28983499e-14,  1.70974346e-14,  1.01585407e-14, ...,\n",
       "         1.92068583e-14,  3.13221671e-14,  1.00000000e+00]])"
      ]
     },
     "execution_count": 22,
     "metadata": {},
     "output_type": "execute_result"
    }
   ],
   "source": [
    "#  Okay, but how do we know that this actually generated the inverse\n",
    "# of matrix A? We know that the dot product of a matrix and its inverse\n",
    "# results in an identity matrix. \n",
    "\n",
    "np.dot(inv_A, A)"
   ]
  },
  {
   "cell_type": "code",
   "execution_count": null,
   "metadata": {},
   "outputs": [],
   "source": []
  }
 ],
 "metadata": {
  "kernelspec": {
   "display_name": "Python 3",
   "language": "python",
   "name": "python3"
  },
  "language_info": {
   "codemirror_mode": {
    "name": "ipython",
    "version": 3
   },
   "file_extension": ".py",
   "mimetype": "text/x-python",
   "name": "python",
   "nbconvert_exporter": "python",
   "pygments_lexer": "ipython3",
   "version": "3.7.6"
  }
 },
 "nbformat": 4,
 "nbformat_minor": 4
}
